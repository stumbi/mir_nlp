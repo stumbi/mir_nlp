{
 "cells": [
  {
   "cell_type": "code",
   "execution_count": 2,
   "id": "ab05d48e",
   "metadata": {},
   "outputs": [
    {
     "data": {
      "application/javascript": "$(document).ready(function() {\n    var cells = Jupyter.notebook.get_cells();\n    for(var i in cells) {\n        var cell = cells[i];\n        var tags = cell.metadata.tags;\n        if (tags && tags.indexOf('hide-from-students') >= 0) {\n            cell.element.hide();\n            cell.execute()\n        }\n    }\n});\n",
      "text/plain": [
       "<IPython.core.display.Javascript object>"
      ]
     },
     "metadata": {},
     "output_type": "display_data"
    }
   ],
   "source": [
    "%%javascript\n",
    "$(document).ready(function() {\n",
    "    var cells = Jupyter.notebook.get_cells();\n",
    "    for(var i in cells) {\n",
    "        var cell = cells[i];\n",
    "        var tags = cell.metadata.tags;\n",
    "        if (tags && tags.indexOf('hide-from-students') >= 0) {\n",
    "            cell.element.hide();\n",
    "            cell.execute()\n",
    "        }\n",
    "    }\n",
    "});"
   ]
  },
  {
   "attachments": {},
   "cell_type": "markdown",
   "id": "f1089a22",
   "metadata": {},
   "source": [
    "  <div>\n",
    "    <h1 align=\"center\">Excercise 01 - Medical Information Retrieval 2023</h1>\n",
    "  </div>\n",
    "  <br />"
   ]
  },
  {
   "cell_type": "markdown",
   "id": "e603d07c",
   "metadata": {},
   "source": [
    "## Regular Expression <a class=\"anchor\" id=\"first\"></a>\n",
    "\n",
    "Regular Expressions (or regex) are a powerful tool for searching strings based on a variety of rules. For instance, you can use them to locate all capital letters in a string or to identify all negative numbers in a document.\n",
    "\n",
    "Despite their flexibility, regular expressions are known for their peculiar syntax. This is due to the fact that regular expressions must be able to filter out any possible string pattern you can think of, hence the need for a complex string pattern format.\n",
    "\n",
    "The built-in re library in Python is used to handle regular expressions.\n",
    "\n",
    "Let's begin with regex by learning how to search for basic patterns within a string."
   ]
  },
  {
   "cell_type": "markdown",
   "id": "45a0be8f",
   "metadata": {},
   "source": [
    "### Simple string matching search <a class=\"anchor\" id=\"first-1\"></a>\n",
    "\n",
    "One way to search for specific information within text data is by using simple string matching. This involves searching for a specific sequence of characters within a string, such as a particular word or phrase. For example, we might search for the word \"heart\" within a clinical patient note."
   ]
  },
  {
   "cell_type": "markdown",
   "id": "3f2e8f82",
   "metadata": {},
   "source": [
    "Import Packages"
   ]
  },
  {
   "cell_type": "code",
   "execution_count": 3,
   "id": "3430c2ca",
   "metadata": {},
   "outputs": [],
   "source": [
    "import re\n",
    "import pandas as pd\n",
    "import numpy as np"
   ]
  },
  {
   "cell_type": "markdown",
   "id": "dfb687e3",
   "metadata": {},
   "source": [
    "The following is a clinical patient note. In the process of the exercise, we will try out different NLP techniques on a data set of 40,000 such notes."
   ]
  },
  {
   "cell_type": "code",
   "execution_count": 4,
   "id": "aa809df5",
   "metadata": {},
   "outputs": [],
   "source": [
    "text = \"\"\"\n",
    "17-year-old male, has come to the student health clinic complaining of heart pounding. Mr. Cleveland's mother has given verbal consent for a history, physical examination, and treatment\n",
    "-began 2-3 months ago,sudden,intermittent for 2 days(lasting 3-4 min),worsening,non-allev/aggrav\n",
    "-associated with dispnea on exersion and rest,stressed out about school\n",
    "-reports fe feels like his heart is jumping out of his chest\n",
    "-ros:denies chest pain,dyaphoresis,wt loss,chills,fever,nausea,vomiting,pedal edeam, heart pounding strong\n",
    "-pmh:non,meds :aderol (from a friend),nkda\n",
    "\"\"\""
   ]
  },
  {
   "cell_type": "markdown",
   "id": "f64243a5",
   "metadata": {},
   "source": [
    "In the following we will discover the methods match(), search() and findall() from the package re\n",
    "\n",
    "\n",
    "Simple search if a string appeirs in the text"
   ]
  },
  {
   "cell_type": "code",
   "execution_count": 5,
   "id": "dcead03d",
   "metadata": {},
   "outputs": [
    {
     "data": {
      "text/plain": [
       "True"
      ]
     },
     "execution_count": 5,
     "metadata": {},
     "output_type": "execute_result"
    }
   ],
   "source": [
    "string = \"heart\"\n",
    "\n",
    "string in text"
   ]
  },
  {
   "attachments": {},
   "cell_type": "markdown",
   "id": "77e25d5a",
   "metadata": {},
   "source": [
    "Position of such string."
   ]
  },
  {
   "cell_type": "code",
   "execution_count": 6,
   "id": "30ed3485",
   "metadata": {},
   "outputs": [
    {
     "data": {
      "text/plain": [
       "(72, 77)"
      ]
     },
     "execution_count": 6,
     "metadata": {},
     "output_type": "execute_result"
    }
   ],
   "source": [
    "match = re.search(string, text)\n",
    "match.span()"
   ]
  },
  {
   "attachments": {},
   "cell_type": "markdown",
   "id": "cd76ed9e",
   "metadata": {},
   "source": [
    "Find not only the first appeirance (mabe it appeirs more often)."
   ]
  },
  {
   "cell_type": "code",
   "execution_count": 7,
   "id": "7378f0de",
   "metadata": {},
   "outputs": [
    {
     "data": {
      "text/plain": [
       "3"
      ]
     },
     "execution_count": 7,
     "metadata": {},
     "output_type": "execute_result"
    }
   ],
   "source": [
    "# how often does the string \"heart\" appeir in the text? \n",
    "num = len(re.findall(\"heart\", text))\n",
    "\n",
    "num"
   ]
  },
  {
   "cell_type": "markdown",
   "id": "92b0822e",
   "metadata": {},
   "source": [
    "Now find all appeirances and their exact position span"
   ]
  },
  {
   "cell_type": "code",
   "execution_count": 8,
   "id": "6325629b",
   "metadata": {},
   "outputs": [
    {
     "name": "stdout",
     "output_type": "stream",
     "text": [
      "(72, 77)\n",
      "(383, 388)\n",
      "(502, 507)\n"
     ]
    }
   ],
   "source": [
    "iterator = re.finditer(\"heart\", text)  \n",
    "\n",
    "for match in iterator:\n",
    "    print(match.span())"
   ]
  },
  {
   "cell_type": "markdown",
   "id": "2e3e1b17",
   "metadata": {},
   "source": [
    "### Pattern matching search <a class=\"anchor\" id=\"first-2\"></a>\n",
    "\n",
    "Pattern matching allows for more complex and varied searches within text data. It involves the use of regular expressions, or regex, which are sequences of characters that define a search pattern. Regex can be used to search for specific patterns of characters within a string, such as numerical values expressed in different formats.\n",
    "\n",
    "For example, we might search for ages within a string. An age could be expressed as an integer followed by a key word such as \"years\" or \"age\".\n",
    "\n",
    "Examples of simple pattern are listed in the following table:"
   ]
  },
  {
   "cell_type": "markdown",
   "id": "47372618",
   "metadata": {},
   "source": [
    "<table ><tr><th>Character</th><th>Description</th>\n",
    "\n",
    "<tr ><td><span >\\d</span></td><td>A digit</td>\n",
    "\n",
    "<tr ><td><span >\\w</span></td><td>Alphanumeric</td>\n",
    "\n",
    "\n",
    "\n",
    "<tr ><td><span >\\s</span></td><td>White space</td>\n",
    "\n",
    "\n",
    "\n",
    "<tr ><td><span >\\D</span></td><td>A non digit</td>\n",
    "\n",
    "<tr ><td><span >\\W</span></td><td>Non-alphanumeric</td>\n",
    "\n",
    "<tr ><td><span >\\S</span></td><td>Non-whitespace</td>"
   ]
  },
  {
   "attachments": {},
   "cell_type": "markdown",
   "id": "969d6c30",
   "metadata": {},
   "source": [
    "For example, if we want to find the first integer in the patient note:"
   ]
  },
  {
   "cell_type": "code",
   "execution_count": 9,
   "id": "c4d70281",
   "metadata": {},
   "outputs": [
    {
     "name": "stdout",
     "output_type": "stream",
     "text": [
      "(1, 2)\n"
     ]
    }
   ],
   "source": [
    "match = re.search(r'\\d', text)\n",
    "if match is not None:\n",
    "    print(match.span())"
   ]
  },
  {
   "attachments": {},
   "cell_type": "markdown",
   "id": "a06ef548",
   "metadata": {},
   "source": [
    "Now a bit more complex: We are looking for a pattern that could indicate the age of the patient. Therefore we are looking for a positive number followed by the strings \"year\", \"old\", or \"age\" within the next 16 characters. After we found such pattern, we want to extract the age out of it."
   ]
  },
  {
   "cell_type": "code",
   "execution_count": 10,
   "id": "57019b5a",
   "metadata": {},
   "outputs": [
    {
     "name": "stdout",
     "output_type": "stream",
     "text": [
      "['17-year']\n"
     ]
    }
   ],
   "source": [
    "result = re.findall(r\"\\d+.{0,16}?(?:year|old|age)\", text)\n",
    "print(result)"
   ]
  },
  {
   "cell_type": "markdown",
   "id": "f7c0c319",
   "metadata": {},
   "source": [
    "Let's break down this regular expression:\n",
    "\n",
    "- `\\d+`: Matches one or more digits for the positive number.\n",
    "- `.{0,16}?`: Matches any character (except for a newline) between zero and five times, but as few times as possible to allow the rest of the regular expression to match.\n",
    "- `(?:year|old|age)`: Non-capturing group that matches one of the specified strings: \"year\", \"old\", or \"age\".\n",
    "\n",
    "So, this regular expression will match a positive number followed by the strings \"year\", \"old\", or \"age\" within 16 characters. For example, it would match \"10 is his age\", \"7 decades old\", or \"34 years old\"."
   ]
  },
  {
   "cell_type": "markdown",
   "id": "76be5b64",
   "metadata": {},
   "source": [
    "If something found, extract the number out of it:"
   ]
  },
  {
   "cell_type": "code",
   "execution_count": 11,
   "id": "6247add1",
   "metadata": {},
   "outputs": [
    {
     "name": "stdout",
     "output_type": "stream",
     "text": [
      "17\n"
     ]
    }
   ],
   "source": [
    "if len(result)>0:\n",
    "    age = int(re.search(r\"\\d+\", text).group())\n",
    "print(age)"
   ]
  },
  {
   "cell_type": "markdown",
   "id": "cbcc48a9",
   "metadata": {},
   "source": [
    "### Exercise <a class=\"anchor\" id=\"first-3\"></a>"
   ]
  },
  {
   "attachments": {},
   "cell_type": "markdown",
   "id": "f93983e0",
   "metadata": {},
   "source": [
    "You have been provided with a dataset of clinical notes which contains information about patients' health conditions. Your task is to extract if the patient mentioned is using caffeine (drinking coffee, taking pills etc. with caffeine?) in each note using regular expressions.\n",
    "\n",
    "* Use regular expressions to extract the caffeine use of the patient mentioned in each note. This information can be represented in different formats (e.g. \"drinks coffee\", \"cafeine use\", \"hyper active\" etc.), so you will need to create a complex regular expression that can capture all these variations.\n",
    "\n",
    "* Create a function that takes in a clinical note as input and returns a binary expression if the patient uses caffeine  in the note using your regular expression."
   ]
  },
  {
   "cell_type": "markdown",
   "id": "ef878855",
   "metadata": {},
   "source": [
    "Lets load the notes from a csv-file and have a look:"
   ]
  },
  {
   "cell_type": "code",
   "execution_count": 12,
   "id": "68b96ac2",
   "metadata": {},
   "outputs": [
    {
     "data": {
      "text/html": [
       "<div>\n",
       "<style scoped>\n",
       "    .dataframe tbody tr th:only-of-type {\n",
       "        vertical-align: middle;\n",
       "    }\n",
       "\n",
       "    .dataframe tbody tr th {\n",
       "        vertical-align: top;\n",
       "    }\n",
       "\n",
       "    .dataframe thead th {\n",
       "        text-align: right;\n",
       "    }\n",
       "</style>\n",
       "<table border=\"1\" class=\"dataframe\">\n",
       "  <thead>\n",
       "    <tr style=\"text-align: right;\">\n",
       "      <th></th>\n",
       "      <th>pn_history</th>\n",
       "      <th>label</th>\n",
       "    </tr>\n",
       "  </thead>\n",
       "  <tbody>\n",
       "    <tr>\n",
       "      <th>0</th>\n",
       "      <td>Dillon Cleveland is a 17 yo M who presents to ...</td>\n",
       "      <td>0</td>\n",
       "    </tr>\n",
       "    <tr>\n",
       "      <th>1</th>\n",
       "      <td>HPI: 26 year old female c/o palpitations for 3...</td>\n",
       "      <td>0</td>\n",
       "    </tr>\n",
       "    <tr>\n",
       "      <th>2</th>\n",
       "      <td>HPI: Dillon Cleveland is a 17 yo M with a 3-4 ...</td>\n",
       "      <td>1</td>\n",
       "    </tr>\n",
       "    <tr>\n",
       "      <th>3</th>\n",
       "      <td>26 yo F in the clinic for follow up after epis...</td>\n",
       "      <td>0</td>\n",
       "    </tr>\n",
       "    <tr>\n",
       "      <th>4</th>\n",
       "      <td>HPI: Mr. Cleveland is a 17 yo m that presents ...</td>\n",
       "      <td>0</td>\n",
       "    </tr>\n",
       "  </tbody>\n",
       "</table>\n",
       "</div>"
      ],
      "text/plain": [
       "                                          pn_history  label\n",
       "0  Dillon Cleveland is a 17 yo M who presents to ...      0\n",
       "1  HPI: 26 year old female c/o palpitations for 3...      0\n",
       "2  HPI: Dillon Cleveland is a 17 yo M with a 3-4 ...      1\n",
       "3  26 yo F in the clinic for follow up after epis...      0\n",
       "4  HPI: Mr. Cleveland is a 17 yo m that presents ...      0"
      ]
     },
     "execution_count": 12,
     "metadata": {},
     "output_type": "execute_result"
    }
   ],
   "source": [
    "df = pd.read_csv(\"data/01-regex/train.csv\")\n",
    "df.head()"
   ]
  },
  {
   "attachments": {},
   "cell_type": "markdown",
   "id": "fc4f0b4e",
   "metadata": {},
   "source": [
    "The Dataframe consists of the clinical notes and a binary label. 0 means that there is no description if the patient uses caffeine. 1 means that the doktor mentions it in some way at least once in the note.\n",
    "Now write a function that takes one note as input and predicts the label 0 or 1:"
   ]
  },
  {
   "cell_type": "code",
   "execution_count": 13,
   "id": "3ffbe1b8",
   "metadata": {},
   "outputs": [],
   "source": [
    "def pred_caffeine_use(note):\n",
    "    ### your code ###\n",
    "    return 'cof' in note\n",
    "    \n",
    "    \n",
    "    # This is just an example:\n",
    "    result = re.findall(\"cof\", note)\n",
    "    return len(result)>0\n"
   ]
  },
  {
   "cell_type": "code",
   "execution_count": 14,
   "id": "d23f135a",
   "metadata": {
    "tags": [
     "hide-from-students"
    ]
   },
   "outputs": [],
   "source": [
    "####  DO NOT CHANGE ####\n",
    "\n",
    "import pandas as pd\n",
    "import numpy as np\n",
    "\n",
    "def test_results(fnc):\n",
    "    df_text = pd.read_csv(\"data/01-regex/test.csv\")\n",
    "    notes, labels = df_text.values.T\n",
    "    label_preds = [fnc(note) for note in notes]\n",
    "\n",
    "    # accuracy\n",
    "    accuracy = sum([1 if label_preds[i] == labels[i] else 0 for i in range(len(labels))])/len(labels)\n",
    "\n",
    "    # F1 score\n",
    "    tp = sum([1 if label_preds[i] == labels[i] == 1 else 0 for i in range(len(labels))])\n",
    "    fp = sum([1 if label_preds[i] == 1 and labels[i] == 0 else 0 for i in range(len(labels))])\n",
    "    fn = sum([1 if label_preds[i] == 0 and labels[i] == 1 else 0 for i in range(len(labels))])\n",
    "    precision = tp/(tp+fp)\n",
    "    recall = tp/(tp+fn)\n",
    "\n",
    "    f1 = 2*precision*recall/(precision+recall)\n",
    "\n",
    "    return {'Accuracy': np.round(accuracy, 3), 'F1-Score': np.round(f1, 3)}"
   ]
  },
  {
   "cell_type": "code",
   "execution_count": 15,
   "id": "313f13b5",
   "metadata": {},
   "outputs": [
    {
     "data": {
      "text/plain": [
       "{'Accuracy': 0.889, 'F1-Score': 0.545}"
      ]
     },
     "execution_count": 15,
     "metadata": {},
     "output_type": "execute_result"
    }
   ],
   "source": [
    "# Lets test your function on the test set!\n",
    "test_results(pred_caffeine_use)"
   ]
  },
  {
   "cell_type": "code",
   "execution_count": null,
   "id": "0ed63a3c",
   "metadata": {},
   "outputs": [],
   "source": []
  }
 ],
 "metadata": {
  "kernelspec": {
   "display_name": "Python 3 (ipykernel)",
   "language": "python",
   "name": "python3"
  },
  "language_info": {
   "codemirror_mode": {
    "name": "ipython",
    "version": 3
   },
   "file_extension": ".py",
   "mimetype": "text/x-python",
   "name": "python",
   "nbconvert_exporter": "python",
   "pygments_lexer": "ipython3",
   "version": "3.10.0"
  }
 },
 "nbformat": 4,
 "nbformat_minor": 5
}
