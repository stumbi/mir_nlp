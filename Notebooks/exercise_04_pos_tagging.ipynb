{
 "cells": [
  {
   "attachments": {},
   "cell_type": "markdown",
   "id": "f1089a22",
   "metadata": {},
   "source": [
    "  <div>\n",
    "    <h1 align=\"center\">Excercise 04 - Medical Information Retrieval 2023</h1>\n",
    "  </div>\n",
    "  <br />"
   ]
  },
  {
   "attachments": {},
   "cell_type": "markdown",
   "id": "e603d07c",
   "metadata": {},
   "source": [
    "## NLP Pipeline - Part 3 <a class=\"anchor\" id=\"first\"></a>\n",
    "\n",
    "Todays session will cover the last step in our preprocessing pipeline which is \"part-of-speech\" (POS) tagging. \n",
    "\n",
    "### Part-of-Speech tagging\n",
    "Some words can have a totally different meaning if they are used in another context. As an example see the word \"watch\" in sentences like \"I watch a movie\" v.s. \"I look at my watch\". Part-of-Speech tagging adresses this issue by taking the \"part of speech\" of a single word into account. \n",
    "\n",
    "To get more familiar with POS tagging please perform the following steps:\n",
    "\n",
    "* Import spacy and load `en_core_web_sm`. Create a simple doc object containing an English sentence. \n",
    "* POS tags can be distinguished between coarse tags (noun, verb, adjective) and fine-grained tags (plural noun, past-tense verb, superlative adjective). Print your sentence that is stored in the doc object. Then choose a word from your sentence and display the coarse tag and the fine-grained tag of this word. (hint: choose the position of a certain word) Then display the description of those tags. \n",
    "* Expand this technique to the whole sentence: For each word please display the coarse tag, the fine-grained tag and the description of the fine-grained tag. \n",
    "* Use `displayCy` to display the dependency parse of your sentence. \n",
    "* Compare the results for the word `read` in the sentences `I read books on NLP.` and `I read a book on NLP.` - what is different and why? \n",
    "* Count the frequency of each POS you can find in your doc object. Display the different POS types with their corresponding frequency. \n",
    "\n",
    "Now import the story of Emma in Lübeck `example_text.txt` from moodle and repeat some of the above steps for the whole text: \n",
    "\n",
    "* Create a doc object from the story. \n",
    "* For every token in the third sentence, print the token text, the POS tag, the fine-grained TAG tag, and the description of the fine-grained tag.\n",
    "* Provide a frequency list of POS tags from the entire document. \n",
    "* What percentage of tokens are Verbs? \n",
    "* How many sentences are contained in the story? "
   ]
  },
  {
   "cell_type": "code",
   "execution_count": 6,
   "id": "3430c2ca",
   "metadata": {},
   "outputs": [],
   "source": [
    "### your code ###\n",
    "import spacy\n",
    "from spacy import displacy\n",
    "\n",
    "nlp = spacy.load('en_core_web_sm')\n",
    "doc = nlp('Laura can\\'t join us tonight, because she has to go to the hairdresser. Cringe!')\n"
   ]
  },
  {
   "cell_type": "code",
   "execution_count": 7,
   "id": "75114575",
   "metadata": {},
   "outputs": [
    {
     "name": "stdout",
     "output_type": "stream",
     "text": [
      "Laura | coarse tag: PROPN | fine grained coarse tag: NNP\n",
      "ca | coarse tag: AUX | fine grained coarse tag: MD\n",
      "n't | coarse tag: PART | fine grained coarse tag: RB\n",
      "join | coarse tag: VERB | fine grained coarse tag: VB\n",
      "us | coarse tag: PRON | fine grained coarse tag: PRP\n",
      "tonight | coarse tag: NOUN | fine grained coarse tag: NN\n",
      ", | coarse tag: PUNCT | fine grained coarse tag: ,\n",
      "because | coarse tag: SCONJ | fine grained coarse tag: IN\n",
      "she | coarse tag: PRON | fine grained coarse tag: PRP\n",
      "has | coarse tag: VERB | fine grained coarse tag: VBZ\n",
      "to | coarse tag: PART | fine grained coarse tag: TO\n",
      "go | coarse tag: VERB | fine grained coarse tag: VB\n",
      "to | coarse tag: ADP | fine grained coarse tag: IN\n",
      "the | coarse tag: DET | fine grained coarse tag: DT\n",
      "hairdresser | coarse tag: NOUN | fine grained coarse tag: NN\n",
      ". | coarse tag: PUNCT | fine grained coarse tag: .\n",
      "Cringe | coarse tag: NOUN | fine grained coarse tag: NN\n",
      "! | coarse tag: PUNCT | fine grained coarse tag: .\n"
     ]
    }
   ],
   "source": [
    "for token in doc:\n",
    "    print(token.text,'|', 'coarse tag:', token.pos_, '| fine grained coarse tag:', token.tag_)"
   ]
  },
  {
   "cell_type": "code",
   "execution_count": 8,
   "id": "311b7378",
   "metadata": {},
   "outputs": [
    {
     "data": {
      "text/plain": [
       "'noun, singular or mass'"
      ]
     },
     "execution_count": 8,
     "metadata": {},
     "output_type": "execute_result"
    }
   ],
   "source": [
    "spacy.explain(doc[5].tag_)"
   ]
  },
  {
   "cell_type": "code",
   "execution_count": 9,
   "id": "3a2ef5b7",
   "metadata": {},
   "outputs": [],
   "source": [
    "doc_1 = nlp('Yesterday, he read books on NLP')\n",
    "doc_2 = nlp('I read a book on NLP')"
   ]
  },
  {
   "cell_type": "code",
   "execution_count": 10,
   "id": "d191262f",
   "metadata": {},
   "outputs": [
    {
     "name": "stdout",
     "output_type": "stream",
     "text": [
      "First Sentence: verb, past tense\n",
      "Second Sentence: verb, past tense\n"
     ]
    }
   ],
   "source": [
    "print('First Sentence:', spacy.explain(doc_1[3].tag_))\n",
    "print('Second Sentence:', spacy.explain(doc_2[1].tag_))"
   ]
  },
  {
   "cell_type": "code",
   "execution_count": 12,
   "id": "cebc8e30",
   "metadata": {},
   "outputs": [
    {
     "name": "stderr",
     "output_type": "stream",
     "text": [
      "c:\\Python310\\lib\\site-packages\\spacy\\displacy\\__init__.py:108: UserWarning: [W011] It looks like you're calling displacy.serve from within a Jupyter notebook or a similar environment. This likely means you're already running a local web server, so there's no need to make displaCy start another one. Instead, you should be able to replace displacy.serve with displacy.render to show the visualization.\n",
      "  warnings.warn(Warnings.W011)\n"
     ]
    },
    {
     "data": {
      "text/html": [
       "<span class=\"tex2jax_ignore\"><!DOCTYPE html>\n",
       "<html lang=\"en\">\n",
       "    <head>\n",
       "        <title>displaCy</title>\n",
       "    </head>\n",
       "\n",
       "    <body style=\"font-size: 16px; font-family: -apple-system, BlinkMacSystemFont, 'Segoe UI', Helvetica, Arial, sans-serif, 'Apple Color Emoji', 'Segoe UI Emoji', 'Segoe UI Symbol'; padding: 4rem 2rem; direction: ltr\">\n",
       "<figure style=\"margin-bottom: 6rem\">\n",
       "<svg xmlns=\"http://www.w3.org/2000/svg\" xmlns:xlink=\"http://www.w3.org/1999/xlink\" xml:lang=\"en\" id=\"30bf17bd55b4472bb8e66b7a7ed6a45d-0\" class=\"displacy\" width=\"2675\" height=\"399.5\" direction=\"ltr\" style=\"max-width: none; height: 399.5px; color: #000000; background: #ffffff; font-family: Arial; direction: ltr\">\n",
       "<text class=\"displacy-token\" fill=\"currentColor\" text-anchor=\"middle\" y=\"309.5\">\n",
       "    <tspan class=\"displacy-word\" fill=\"currentColor\" x=\"50\">Laura</tspan>\n",
       "    <tspan class=\"displacy-tag\" dy=\"2em\" fill=\"currentColor\" x=\"50\">PROPN</tspan>\n",
       "</text>\n",
       "\n",
       "<text class=\"displacy-token\" fill=\"currentColor\" text-anchor=\"middle\" y=\"309.5\">\n",
       "    <tspan class=\"displacy-word\" fill=\"currentColor\" x=\"225\">ca</tspan>\n",
       "    <tspan class=\"displacy-tag\" dy=\"2em\" fill=\"currentColor\" x=\"225\">AUX</tspan>\n",
       "</text>\n",
       "\n",
       "<text class=\"displacy-token\" fill=\"currentColor\" text-anchor=\"middle\" y=\"309.5\">\n",
       "    <tspan class=\"displacy-word\" fill=\"currentColor\" x=\"400\">n't</tspan>\n",
       "    <tspan class=\"displacy-tag\" dy=\"2em\" fill=\"currentColor\" x=\"400\">PART</tspan>\n",
       "</text>\n",
       "\n",
       "<text class=\"displacy-token\" fill=\"currentColor\" text-anchor=\"middle\" y=\"309.5\">\n",
       "    <tspan class=\"displacy-word\" fill=\"currentColor\" x=\"575\">join</tspan>\n",
       "    <tspan class=\"displacy-tag\" dy=\"2em\" fill=\"currentColor\" x=\"575\">VERB</tspan>\n",
       "</text>\n",
       "\n",
       "<text class=\"displacy-token\" fill=\"currentColor\" text-anchor=\"middle\" y=\"309.5\">\n",
       "    <tspan class=\"displacy-word\" fill=\"currentColor\" x=\"750\">us</tspan>\n",
       "    <tspan class=\"displacy-tag\" dy=\"2em\" fill=\"currentColor\" x=\"750\">PRON</tspan>\n",
       "</text>\n",
       "\n",
       "<text class=\"displacy-token\" fill=\"currentColor\" text-anchor=\"middle\" y=\"309.5\">\n",
       "    <tspan class=\"displacy-word\" fill=\"currentColor\" x=\"925\">tonight,</tspan>\n",
       "    <tspan class=\"displacy-tag\" dy=\"2em\" fill=\"currentColor\" x=\"925\">NOUN</tspan>\n",
       "</text>\n",
       "\n",
       "<text class=\"displacy-token\" fill=\"currentColor\" text-anchor=\"middle\" y=\"309.5\">\n",
       "    <tspan class=\"displacy-word\" fill=\"currentColor\" x=\"1100\">because</tspan>\n",
       "    <tspan class=\"displacy-tag\" dy=\"2em\" fill=\"currentColor\" x=\"1100\">SCONJ</tspan>\n",
       "</text>\n",
       "\n",
       "<text class=\"displacy-token\" fill=\"currentColor\" text-anchor=\"middle\" y=\"309.5\">\n",
       "    <tspan class=\"displacy-word\" fill=\"currentColor\" x=\"1275\">she</tspan>\n",
       "    <tspan class=\"displacy-tag\" dy=\"2em\" fill=\"currentColor\" x=\"1275\">PRON</tspan>\n",
       "</text>\n",
       "\n",
       "<text class=\"displacy-token\" fill=\"currentColor\" text-anchor=\"middle\" y=\"309.5\">\n",
       "    <tspan class=\"displacy-word\" fill=\"currentColor\" x=\"1450\">has</tspan>\n",
       "    <tspan class=\"displacy-tag\" dy=\"2em\" fill=\"currentColor\" x=\"1450\">VERB</tspan>\n",
       "</text>\n",
       "\n",
       "<text class=\"displacy-token\" fill=\"currentColor\" text-anchor=\"middle\" y=\"309.5\">\n",
       "    <tspan class=\"displacy-word\" fill=\"currentColor\" x=\"1625\">to</tspan>\n",
       "    <tspan class=\"displacy-tag\" dy=\"2em\" fill=\"currentColor\" x=\"1625\">PART</tspan>\n",
       "</text>\n",
       "\n",
       "<text class=\"displacy-token\" fill=\"currentColor\" text-anchor=\"middle\" y=\"309.5\">\n",
       "    <tspan class=\"displacy-word\" fill=\"currentColor\" x=\"1800\">go</tspan>\n",
       "    <tspan class=\"displacy-tag\" dy=\"2em\" fill=\"currentColor\" x=\"1800\">VERB</tspan>\n",
       "</text>\n",
       "\n",
       "<text class=\"displacy-token\" fill=\"currentColor\" text-anchor=\"middle\" y=\"309.5\">\n",
       "    <tspan class=\"displacy-word\" fill=\"currentColor\" x=\"1975\">to</tspan>\n",
       "    <tspan class=\"displacy-tag\" dy=\"2em\" fill=\"currentColor\" x=\"1975\">ADP</tspan>\n",
       "</text>\n",
       "\n",
       "<text class=\"displacy-token\" fill=\"currentColor\" text-anchor=\"middle\" y=\"309.5\">\n",
       "    <tspan class=\"displacy-word\" fill=\"currentColor\" x=\"2150\">the</tspan>\n",
       "    <tspan class=\"displacy-tag\" dy=\"2em\" fill=\"currentColor\" x=\"2150\">DET</tspan>\n",
       "</text>\n",
       "\n",
       "<text class=\"displacy-token\" fill=\"currentColor\" text-anchor=\"middle\" y=\"309.5\">\n",
       "    <tspan class=\"displacy-word\" fill=\"currentColor\" x=\"2325\">hairdresser.</tspan>\n",
       "    <tspan class=\"displacy-tag\" dy=\"2em\" fill=\"currentColor\" x=\"2325\">NOUN</tspan>\n",
       "</text>\n",
       "\n",
       "<text class=\"displacy-token\" fill=\"currentColor\" text-anchor=\"middle\" y=\"309.5\">\n",
       "    <tspan class=\"displacy-word\" fill=\"currentColor\" x=\"2500\">Cringe!</tspan>\n",
       "    <tspan class=\"displacy-tag\" dy=\"2em\" fill=\"currentColor\" x=\"2500\">NOUN</tspan>\n",
       "</text>\n",
       "\n",
       "<g class=\"displacy-arrow\">\n",
       "    <path class=\"displacy-arc\" id=\"arrow-30bf17bd55b4472bb8e66b7a7ed6a45d-0-0\" stroke-width=\"2px\" d=\"M70,264.5 C70,2.0 575.0,2.0 575.0,264.5\" fill=\"none\" stroke=\"currentColor\"/>\n",
       "    <text dy=\"1.25em\" style=\"font-size: 0.8em; letter-spacing: 1px\">\n",
       "        <textPath xlink:href=\"#arrow-30bf17bd55b4472bb8e66b7a7ed6a45d-0-0\" class=\"displacy-label\" startOffset=\"50%\" side=\"left\" fill=\"currentColor\" text-anchor=\"middle\">nsubj</textPath>\n",
       "    </text>\n",
       "    <path class=\"displacy-arrowhead\" d=\"M70,266.5 L62,254.5 78,254.5\" fill=\"currentColor\"/>\n",
       "</g>\n",
       "\n",
       "<g class=\"displacy-arrow\">\n",
       "    <path class=\"displacy-arc\" id=\"arrow-30bf17bd55b4472bb8e66b7a7ed6a45d-0-1\" stroke-width=\"2px\" d=\"M245,264.5 C245,89.5 570.0,89.5 570.0,264.5\" fill=\"none\" stroke=\"currentColor\"/>\n",
       "    <text dy=\"1.25em\" style=\"font-size: 0.8em; letter-spacing: 1px\">\n",
       "        <textPath xlink:href=\"#arrow-30bf17bd55b4472bb8e66b7a7ed6a45d-0-1\" class=\"displacy-label\" startOffset=\"50%\" side=\"left\" fill=\"currentColor\" text-anchor=\"middle\">aux</textPath>\n",
       "    </text>\n",
       "    <path class=\"displacy-arrowhead\" d=\"M245,266.5 L237,254.5 253,254.5\" fill=\"currentColor\"/>\n",
       "</g>\n",
       "\n",
       "<g class=\"displacy-arrow\">\n",
       "    <path class=\"displacy-arc\" id=\"arrow-30bf17bd55b4472bb8e66b7a7ed6a45d-0-2\" stroke-width=\"2px\" d=\"M420,264.5 C420,177.0 565.0,177.0 565.0,264.5\" fill=\"none\" stroke=\"currentColor\"/>\n",
       "    <text dy=\"1.25em\" style=\"font-size: 0.8em; letter-spacing: 1px\">\n",
       "        <textPath xlink:href=\"#arrow-30bf17bd55b4472bb8e66b7a7ed6a45d-0-2\" class=\"displacy-label\" startOffset=\"50%\" side=\"left\" fill=\"currentColor\" text-anchor=\"middle\">neg</textPath>\n",
       "    </text>\n",
       "    <path class=\"displacy-arrowhead\" d=\"M420,266.5 L412,254.5 428,254.5\" fill=\"currentColor\"/>\n",
       "</g>\n",
       "\n",
       "<g class=\"displacy-arrow\">\n",
       "    <path class=\"displacy-arc\" id=\"arrow-30bf17bd55b4472bb8e66b7a7ed6a45d-0-3\" stroke-width=\"2px\" d=\"M595,264.5 C595,177.0 740.0,177.0 740.0,264.5\" fill=\"none\" stroke=\"currentColor\"/>\n",
       "    <text dy=\"1.25em\" style=\"font-size: 0.8em; letter-spacing: 1px\">\n",
       "        <textPath xlink:href=\"#arrow-30bf17bd55b4472bb8e66b7a7ed6a45d-0-3\" class=\"displacy-label\" startOffset=\"50%\" side=\"left\" fill=\"currentColor\" text-anchor=\"middle\">dobj</textPath>\n",
       "    </text>\n",
       "    <path class=\"displacy-arrowhead\" d=\"M740.0,266.5 L748.0,254.5 732.0,254.5\" fill=\"currentColor\"/>\n",
       "</g>\n",
       "\n",
       "<g class=\"displacy-arrow\">\n",
       "    <path class=\"displacy-arc\" id=\"arrow-30bf17bd55b4472bb8e66b7a7ed6a45d-0-4\" stroke-width=\"2px\" d=\"M595,264.5 C595,89.5 920.0,89.5 920.0,264.5\" fill=\"none\" stroke=\"currentColor\"/>\n",
       "    <text dy=\"1.25em\" style=\"font-size: 0.8em; letter-spacing: 1px\">\n",
       "        <textPath xlink:href=\"#arrow-30bf17bd55b4472bb8e66b7a7ed6a45d-0-4\" class=\"displacy-label\" startOffset=\"50%\" side=\"left\" fill=\"currentColor\" text-anchor=\"middle\">npadvmod</textPath>\n",
       "    </text>\n",
       "    <path class=\"displacy-arrowhead\" d=\"M920.0,266.5 L928.0,254.5 912.0,254.5\" fill=\"currentColor\"/>\n",
       "</g>\n",
       "\n",
       "<g class=\"displacy-arrow\">\n",
       "    <path class=\"displacy-arc\" id=\"arrow-30bf17bd55b4472bb8e66b7a7ed6a45d-0-5\" stroke-width=\"2px\" d=\"M1120,264.5 C1120,89.5 1445.0,89.5 1445.0,264.5\" fill=\"none\" stroke=\"currentColor\"/>\n",
       "    <text dy=\"1.25em\" style=\"font-size: 0.8em; letter-spacing: 1px\">\n",
       "        <textPath xlink:href=\"#arrow-30bf17bd55b4472bb8e66b7a7ed6a45d-0-5\" class=\"displacy-label\" startOffset=\"50%\" side=\"left\" fill=\"currentColor\" text-anchor=\"middle\">mark</textPath>\n",
       "    </text>\n",
       "    <path class=\"displacy-arrowhead\" d=\"M1120,266.5 L1112,254.5 1128,254.5\" fill=\"currentColor\"/>\n",
       "</g>\n",
       "\n",
       "<g class=\"displacy-arrow\">\n",
       "    <path class=\"displacy-arc\" id=\"arrow-30bf17bd55b4472bb8e66b7a7ed6a45d-0-6\" stroke-width=\"2px\" d=\"M1295,264.5 C1295,177.0 1440.0,177.0 1440.0,264.5\" fill=\"none\" stroke=\"currentColor\"/>\n",
       "    <text dy=\"1.25em\" style=\"font-size: 0.8em; letter-spacing: 1px\">\n",
       "        <textPath xlink:href=\"#arrow-30bf17bd55b4472bb8e66b7a7ed6a45d-0-6\" class=\"displacy-label\" startOffset=\"50%\" side=\"left\" fill=\"currentColor\" text-anchor=\"middle\">nsubj</textPath>\n",
       "    </text>\n",
       "    <path class=\"displacy-arrowhead\" d=\"M1295,266.5 L1287,254.5 1303,254.5\" fill=\"currentColor\"/>\n",
       "</g>\n",
       "\n",
       "<g class=\"displacy-arrow\">\n",
       "    <path class=\"displacy-arc\" id=\"arrow-30bf17bd55b4472bb8e66b7a7ed6a45d-0-7\" stroke-width=\"2px\" d=\"M595,264.5 C595,2.0 1450.0,2.0 1450.0,264.5\" fill=\"none\" stroke=\"currentColor\"/>\n",
       "    <text dy=\"1.25em\" style=\"font-size: 0.8em; letter-spacing: 1px\">\n",
       "        <textPath xlink:href=\"#arrow-30bf17bd55b4472bb8e66b7a7ed6a45d-0-7\" class=\"displacy-label\" startOffset=\"50%\" side=\"left\" fill=\"currentColor\" text-anchor=\"middle\">advcl</textPath>\n",
       "    </text>\n",
       "    <path class=\"displacy-arrowhead\" d=\"M1450.0,266.5 L1458.0,254.5 1442.0,254.5\" fill=\"currentColor\"/>\n",
       "</g>\n",
       "\n",
       "<g class=\"displacy-arrow\">\n",
       "    <path class=\"displacy-arc\" id=\"arrow-30bf17bd55b4472bb8e66b7a7ed6a45d-0-8\" stroke-width=\"2px\" d=\"M1645,264.5 C1645,177.0 1790.0,177.0 1790.0,264.5\" fill=\"none\" stroke=\"currentColor\"/>\n",
       "    <text dy=\"1.25em\" style=\"font-size: 0.8em; letter-spacing: 1px\">\n",
       "        <textPath xlink:href=\"#arrow-30bf17bd55b4472bb8e66b7a7ed6a45d-0-8\" class=\"displacy-label\" startOffset=\"50%\" side=\"left\" fill=\"currentColor\" text-anchor=\"middle\">aux</textPath>\n",
       "    </text>\n",
       "    <path class=\"displacy-arrowhead\" d=\"M1645,266.5 L1637,254.5 1653,254.5\" fill=\"currentColor\"/>\n",
       "</g>\n",
       "\n",
       "<g class=\"displacy-arrow\">\n",
       "    <path class=\"displacy-arc\" id=\"arrow-30bf17bd55b4472bb8e66b7a7ed6a45d-0-9\" stroke-width=\"2px\" d=\"M1470,264.5 C1470,89.5 1795.0,89.5 1795.0,264.5\" fill=\"none\" stroke=\"currentColor\"/>\n",
       "    <text dy=\"1.25em\" style=\"font-size: 0.8em; letter-spacing: 1px\">\n",
       "        <textPath xlink:href=\"#arrow-30bf17bd55b4472bb8e66b7a7ed6a45d-0-9\" class=\"displacy-label\" startOffset=\"50%\" side=\"left\" fill=\"currentColor\" text-anchor=\"middle\">xcomp</textPath>\n",
       "    </text>\n",
       "    <path class=\"displacy-arrowhead\" d=\"M1795.0,266.5 L1803.0,254.5 1787.0,254.5\" fill=\"currentColor\"/>\n",
       "</g>\n",
       "\n",
       "<g class=\"displacy-arrow\">\n",
       "    <path class=\"displacy-arc\" id=\"arrow-30bf17bd55b4472bb8e66b7a7ed6a45d-0-10\" stroke-width=\"2px\" d=\"M1820,264.5 C1820,177.0 1965.0,177.0 1965.0,264.5\" fill=\"none\" stroke=\"currentColor\"/>\n",
       "    <text dy=\"1.25em\" style=\"font-size: 0.8em; letter-spacing: 1px\">\n",
       "        <textPath xlink:href=\"#arrow-30bf17bd55b4472bb8e66b7a7ed6a45d-0-10\" class=\"displacy-label\" startOffset=\"50%\" side=\"left\" fill=\"currentColor\" text-anchor=\"middle\">prep</textPath>\n",
       "    </text>\n",
       "    <path class=\"displacy-arrowhead\" d=\"M1965.0,266.5 L1973.0,254.5 1957.0,254.5\" fill=\"currentColor\"/>\n",
       "</g>\n",
       "\n",
       "<g class=\"displacy-arrow\">\n",
       "    <path class=\"displacy-arc\" id=\"arrow-30bf17bd55b4472bb8e66b7a7ed6a45d-0-11\" stroke-width=\"2px\" d=\"M2170,264.5 C2170,177.0 2315.0,177.0 2315.0,264.5\" fill=\"none\" stroke=\"currentColor\"/>\n",
       "    <text dy=\"1.25em\" style=\"font-size: 0.8em; letter-spacing: 1px\">\n",
       "        <textPath xlink:href=\"#arrow-30bf17bd55b4472bb8e66b7a7ed6a45d-0-11\" class=\"displacy-label\" startOffset=\"50%\" side=\"left\" fill=\"currentColor\" text-anchor=\"middle\">det</textPath>\n",
       "    </text>\n",
       "    <path class=\"displacy-arrowhead\" d=\"M2170,266.5 L2162,254.5 2178,254.5\" fill=\"currentColor\"/>\n",
       "</g>\n",
       "\n",
       "<g class=\"displacy-arrow\">\n",
       "    <path class=\"displacy-arc\" id=\"arrow-30bf17bd55b4472bb8e66b7a7ed6a45d-0-12\" stroke-width=\"2px\" d=\"M1995,264.5 C1995,89.5 2320.0,89.5 2320.0,264.5\" fill=\"none\" stroke=\"currentColor\"/>\n",
       "    <text dy=\"1.25em\" style=\"font-size: 0.8em; letter-spacing: 1px\">\n",
       "        <textPath xlink:href=\"#arrow-30bf17bd55b4472bb8e66b7a7ed6a45d-0-12\" class=\"displacy-label\" startOffset=\"50%\" side=\"left\" fill=\"currentColor\" text-anchor=\"middle\">pobj</textPath>\n",
       "    </text>\n",
       "    <path class=\"displacy-arrowhead\" d=\"M2320.0,266.5 L2328.0,254.5 2312.0,254.5\" fill=\"currentColor\"/>\n",
       "</g>\n",
       "</svg>\n",
       "</figure>\n",
       "</body>\n",
       "</html></span>"
      ],
      "text/plain": [
       "<IPython.core.display.HTML object>"
      ]
     },
     "metadata": {},
     "output_type": "display_data"
    },
    {
     "name": "stdout",
     "output_type": "stream",
     "text": [
      "\n",
      "Using the 'dep' visualizer\n",
      "Serving on http://0.0.0.0:5000 ...\n",
      "\n",
      "Shutting down server on port 5000.\n"
     ]
    }
   ],
   "source": [
    "displacy.serve(doc)"
   ]
  },
  {
   "attachments": {},
   "cell_type": "markdown",
   "id": "126da70d",
   "metadata": {},
   "source": [
    "## Exercise 2:"
   ]
  },
  {
   "cell_type": "code",
   "execution_count": 13,
   "id": "af25656c",
   "metadata": {},
   "outputs": [],
   "source": [
    "text = ''\n",
    "\n",
    "with open('example_text.txt', 'r') as f:\n",
    "    text = f.read()\n",
    "    f.close()\n",
    "\n",
    "doc_emma = nlp(text)"
   ]
  },
  {
   "attachments": {},
   "cell_type": "markdown",
   "id": "3451ae58",
   "metadata": {},
   "source": [
    "for i, sent in enumerate(doc.sents):\n",
    "    print(sent)"
   ]
  },
  {
   "cell_type": "code",
   "execution_count": 20,
   "id": "814e8951",
   "metadata": {},
   "outputs": [
    {
     "name": "stdout",
     "output_type": "stream",
     "text": [
      "Emma | coarse tag: PROPN | fine grained coarse tag: NNP | describtion of tag: noun, proper singular\n",
      "is | coarse tag: AUX | fine grained coarse tag: VBZ | describtion of tag: verb, 3rd person singular present\n",
      "an | coarse tag: DET | fine grained coarse tag: DT | describtion of tag: determiner\n",
      "avid | coarse tag: ADJ | fine grained coarse tag: JJ | describtion of tag: adjective (English), other noun-modifier (Chinese)\n",
      "lover | coarse tag: NOUN | fine grained coarse tag: NN | describtion of tag: noun, singular or mass\n",
      "of | coarse tag: ADP | fine grained coarse tag: IN | describtion of tag: conjunction, subordinating or preposition\n",
      "history | coarse tag: NOUN | fine grained coarse tag: NN | describtion of tag: noun, singular or mass\n",
      "and | coarse tag: CCONJ | fine grained coarse tag: CC | describtion of tag: conjunction, coordinating\n",
      "culture | coarse tag: NOUN | fine grained coarse tag: NN | describtion of tag: noun, singular or mass\n",
      ", | coarse tag: PUNCT | fine grained coarse tag: , | describtion of tag: punctuation mark, comma\n",
      "and | coarse tag: CCONJ | fine grained coarse tag: CC | describtion of tag: conjunction, coordinating\n",
      "she | coarse tag: PRON | fine grained coarse tag: PRP | describtion of tag: pronoun, personal\n",
      "is | coarse tag: AUX | fine grained coarse tag: VBZ | describtion of tag: verb, 3rd person singular present\n",
      "thrilled | coarse tag: ADJ | fine grained coarse tag: JJ | describtion of tag: adjective (English), other noun-modifier (Chinese)\n",
      "to | coarse tag: PART | fine grained coarse tag: TO | describtion of tag: infinitival \"to\"\n",
      "have | coarse tag: VERB | fine grained coarse tag: VB | describtion of tag: verb, base form\n",
      "the | coarse tag: DET | fine grained coarse tag: DT | describtion of tag: determiner\n",
      "opportunity | coarse tag: NOUN | fine grained coarse tag: NN | describtion of tag: noun, singular or mass\n",
      "to | coarse tag: PART | fine grained coarse tag: TO | describtion of tag: infinitival \"to\"\n",
      "immerse | coarse tag: VERB | fine grained coarse tag: VB | describtion of tag: verb, base form\n",
      "herself | coarse tag: PRON | fine grained coarse tag: PRP | describtion of tag: pronoun, personal\n",
      "in | coarse tag: ADP | fine grained coarse tag: IN | describtion of tag: conjunction, subordinating or preposition\n",
      "the | coarse tag: DET | fine grained coarse tag: DT | describtion of tag: determiner\n",
      "rich | coarse tag: ADJ | fine grained coarse tag: JJ | describtion of tag: adjective (English), other noun-modifier (Chinese)\n",
      "heritage | coarse tag: NOUN | fine grained coarse tag: NN | describtion of tag: noun, singular or mass\n",
      "of | coarse tag: ADP | fine grained coarse tag: IN | describtion of tag: conjunction, subordinating or preposition\n",
      "LÃ¼beck | coarse tag: NUM | fine grained coarse tag: CD | describtion of tag: cardinal number\n",
      ". | coarse tag: PUNCT | fine grained coarse tag: . | describtion of tag: punctuation mark, sentence closer\n",
      "Percentage of Verbs: 11.14864864864865\n",
      "Number of sentences in file: 9\n"
     ]
    }
   ],
   "source": [
    "verbs = 0\n",
    "\n",
    "for i, sent in enumerate(doc_emma.sents):\n",
    "    if i == 2:\n",
    "        for token in sent:\n",
    "            if token.pos_ == 'VERB':\n",
    "                verbs += 1\n",
    "            print(token.text,'|', 'coarse tag:', token.pos_, '| fine grained coarse tag:', token.tag_, '| describtion of tag:', spacy.explain(token.tag_))\n",
    "\n",
    "    else:\n",
    "        for token in sent:\n",
    "            if token.pos_ == 'VERB':\n",
    "                verbs += 1\n",
    "\n",
    "print('Percentage of Verbs:', (verbs/len(doc_emma))*100)\n",
    "print('Number of sentences in file:', i+1)"
   ]
  }
 ],
 "metadata": {
  "kernelspec": {
   "display_name": "Python 3 (ipykernel)",
   "language": "python",
   "name": "python3"
  },
  "language_info": {
   "codemirror_mode": {
    "name": "ipython",
    "version": 3
   },
   "file_extension": ".py",
   "mimetype": "text/x-python",
   "name": "python",
   "nbconvert_exporter": "python",
   "pygments_lexer": "ipython3",
   "version": "3.10.0"
  }
 },
 "nbformat": 4,
 "nbformat_minor": 5
}
