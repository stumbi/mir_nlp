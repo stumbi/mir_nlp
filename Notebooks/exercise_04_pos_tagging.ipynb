{
 "cells": [
  {
   "cell_type": "markdown",
   "id": "f1089a22",
   "metadata": {},
   "source": [
    "  <div>\n",
    "    <h1 align=\"center\">Excercise 04 - Medical Information Retrieval 2023</h1>\n",
    "  </div>\n",
    "  <br />"
   ]
  },
  {
   "cell_type": "markdown",
   "id": "e603d07c",
   "metadata": {},
   "source": [
    "## NLP Pipeline - Part 3 <a class=\"anchor\" id=\"first\"></a>\n",
    "\n",
    "Todays session will cover the last step in our preprocessing pipeline which is \"part-of-speech\" (POS) tagging. \n",
    "\n",
    "### Part-of-Speech tagging\n",
    "Some words can have a totally different meaning if they are used in another context. As an example see the word \"watch\" in sentences like \"I watch a movie\" v.s. \"I look at my watch\". Part-of-Speech tagging adresses this issue by taking the \"part of speech\" of a single word into account. \n",
    "\n",
    "To get more familiar with POS tagging please perform the following steps:\n",
    "\n",
    "* Import spacy and load `en_core_web_sm`. Create a simple doc object containing an English sentence. \n",
    "* POS tags can be distinguished between coarse tags (noun, verb, adjective) and fine-grained tags (plural noun, past-tense verb, superlative adjective). Print your sentence that is stored in the doc object. Then choose a word from your sentence and display the coarse tag and the fine-grained tag of this word. (hint: choose the position of a certain word) Then display the description of those tags. \n",
    "* Expand this technique to the whole sentence: For each word please display the coarse tag, the fine-grained tag and the description of the fine-grained tag. \n",
    "* Use `displayCy` to display the dependency parse of your sentence. \n",
    "* Compare the results for the word `read` in the sentences `I read books on NLP.` and `I read a book on NLP.` - what is different and why? \n",
    "* Count the frequency of each POS you can find in your doc object. Display the different POS types with their corresponding frequency. \n",
    "\n",
    "Now import the story of Emma in Lübeck `example_text.txt` from moodle and repeat some of the above steps for the whole text: \n",
    "\n",
    "* Create a doc object from the story. \n",
    "* For every token in the third sentence, print the token text, the POS tag, the fine-grained TAG tag, and the description of the fine-grained tag.\n",
    "* Provide a frequency list of POS tags from the entire document. \n",
    "* What percentage of tokens are Verbs? \n",
    "* How many sentences are contained in the story? "
   ]
  },
  {
   "cell_type": "code",
   "execution_count": 1,
   "id": "3430c2ca",
   "metadata": {},
   "outputs": [],
   "source": [
    "### your code ###"
   ]
  }
 ],
 "metadata": {
  "kernelspec": {
   "display_name": "Python 3 (ipykernel)",
   "language": "python",
   "name": "python3"
  },
  "language_info": {
   "codemirror_mode": {
    "name": "ipython",
    "version": 3
   },
   "file_extension": ".py",
   "mimetype": "text/x-python",
   "name": "python",
   "nbconvert_exporter": "python",
   "pygments_lexer": "ipython3",
   "version": "3.10.2"
  }
 },
 "nbformat": 4,
 "nbformat_minor": 5
}
